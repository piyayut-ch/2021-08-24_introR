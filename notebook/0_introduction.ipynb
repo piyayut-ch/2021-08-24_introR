{
 "cells": [
  {
   "cell_type": "markdown",
   "metadata": {
    "id": "2FMhJt6xOEx0"
   },
   "source": [
    "# Introduction\n",
    "## `R` คืออะไร\n",
    "- `R` เป็นภาษาคอมพิวเตอร์ที่นิยมใช้ในการวิเคราะห์ทางสถิติ เศรษฐมิติ รวมถึง Data Science\n",
    "- ภาษาคอมพิวเตอร์ จริงๆ แล้ว ก็คือภาษาที่ คน ใช้ คุยกับ คอมพิวเตอร์\n",
    "- ภาษาคอมพิวเตอร์ มีหลายภาษา เช่น `C`, `C++`, `html`, `javascript`, `python` รวมทั้ง `R`\n",
    "- แต่ละภาษาก็มี โครงสร้าง และ ไวยกรณ์ ที่แตกต่างกันออกไป\n",
    "- ปัจจุบัน ภาษาที่นิยมในการทำ data analytics คือ `python` และ `R`\n",
    "\n",
    "\n",
    "## ข้อดีของ `R`\n",
    "- ข้อดีของ `R` คือเป็น open-source **ฟรี**\n",
    "- มี community ที่ support เยอะ\n",
    "- มี **packages** ที่สามารถใช้ได้หลากหลาย เช่น Data Wrangling (การจัดการข้อมูล) Data Visualization (การนำเสนอข้อมูลด้วยภาพ) Data Modeling (การทำแบบจำลองเพื่อวิเคราะห์หรือพยากรณ์) เป็นต้น \n",
    "<br><br>\n",
    "\n",
    "- ภาษาคอมพิวเตอร์ (computer language) ก็คือภาษาที่ คน ใช้ คุยกับ คอมพิวเตอร์\n",
    "- ภาษาคอมพิวเตอร์ ก็เหมือนภาษาของคน มีหลายภาษา เช่น C, C+, html, javascript, python รวมทั้ง R\n",
    "- แต่ละภาษาก็มี โครงสร้าง และ ไวยกรณ์ ที่แตกต่างกันออกไป\n",
    "- ปัจจุบัน ภาษาที่นิยมในการทำ data analytics คือ python R และที่กำลังมา เช่น julia\n",
    "- **แล้วจะเรียนตัวไหนดี ?** คำแนะนำ คือ เลือกตัวที่ถนัด ฝึกให้ชำนาญ แล้วเรียนรู้ตัวอื่นเพิ่มเติม\n",
    "- ผมเลือกใช้ `R` เนื่องจาก ว่า free ทำกราฟสวย จัดการข้อมูลได้ดี และมี library ทางเศรษฐมิติเยอะ\n",
    "\n",
    "\n",
    "## R vs Python\n",
    "- `R`และ `python` ในการทำ data science สามารถทำได้\n",
    "\n",
    "\n",
    "## R ทำอะไรได้บ้าง\n",
    "- Data Wrangling/Data Preparation\n",
    "- Data Visualization\n",
    "- Statistical and Econometrics Analysis\n",
    "- Machine Learning\n",
    "- Report\n",
    "- Dashboard\n",
    "- Book\n",
    "- Website\n",
    "- Presentation\n",
    "- etc."
   ]
  },
  {
   "cell_type": "markdown",
   "metadata": {},
   "source": [
    "# Install R\n",
    "- ไปที่ https://cran.r-project.org/index.html\n",
    "- เลือกระบบปฏิบัติการ (macOS, linux, windows)\n",
    "- เลือก base\n",
    "- download R installer\n",
    "- ติดตั้ง R"
   ]
  },
  {
   "cell_type": "markdown",
   "metadata": {},
   "source": [
    "# การใช้งาน R\n",
    "\n",
    "## RGui\n",
    "\n",
    "\n",
    "## RStudio\n",
    "\n",
    "\n",
    "## Jupyterlab\n",
    "ในการใช้งานจริง  เราจะใช้ `R` ผ่านเครื่องมือช่วยที่เรียกว่า IDE (Integrated Development Environment) \n",
    "โดยมีความสามารถ เช่น สร้างและแก้ไข script โปรแกรม ประมวลผล แสดงผลทั้งรูปแบบข้อมูลและกราฟฟิก เป็นต้น <br><br>\n",
    "\n",
    "สำหรับ `R` [RStudio](https://rstudio.com) เป็น IDE ที่ได้รับความนิยม แต่มีข้อจำกัดในการ\n",
    "ใช้ตัวห้อยตัวลอยในภาษาไทย ไม่สะดวกต่อการเขียนภาษาไทย ในที่นี้จึงขอแนะนำให้ใช้ `R` กับ\n",
    "[Jupyter](https://jupyter.org) ซึ่งเป็น IDE อีกตัวหนึ่ง มีข้อดี คือ เป็น web-based \n",
    "interactive notebook สามาถ coding พร้อมทั้งแสดงผลได้ในไฟล์เดียวกัน และยังสามารถใช้ \n",
    "`markdown` ในการเขียนข้อความอธิบาย ได้อีกด้วย นอกจากนี้ `Jupyter` ยังสามารถใช้กับภาษาอื่น\n",
    "ได้ด้วย (`Python` `Julia` หรือ `Stata`) <br><br>\n",
    "\n",
    "ในการติดตั้งแนะนำให้ ติดตั้ง `Miniconda` ก่อน เพื่อติดตั้ง `Jupyter` จากนั้นจึงติดตั้ง `R` \n",
    "พร้อมทั้งติดตั้ง IRkernel เพื่อใช้ `R` ได้ใน `Jupyter` \n",
    "\n",
    "\n",
    "## Google Colab\n",
    "\n",
    "\n",
    "## NABC lab\n",
    "\n"
   ]
  }
 ],
 "metadata": {
  "colab": {
   "authorship_tag": "ABX9TyOZNwQPeF+fgRw6dSFFDOdW",
   "name": "1_R Basics.ipynb",
   "provenance": [],
   "toc_visible": true
  },
  "kernelspec": {
   "display_name": "R",
   "language": "R",
   "name": "ir"
  },
  "language_info": {
   "codemirror_mode": "r",
   "file_extension": ".r",
   "mimetype": "text/x-r-source",
   "name": "R",
   "pygments_lexer": "r",
   "version": "4.1.0"
  }
 },
 "nbformat": 4,
 "nbformat_minor": 4
}
