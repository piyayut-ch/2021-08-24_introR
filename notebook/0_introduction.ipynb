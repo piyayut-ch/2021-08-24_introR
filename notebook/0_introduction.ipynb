{
 "cells": [
  {
   "cell_type": "markdown",
   "metadata": {
    "id": "2FMhJt6xOEx0"
   },
   "source": [
    "# Introduction\n",
    "## `R` คืออะไร\n",
    "- `R` เป็นภาษาคอมพิวเตอร์ที่นิยมใช้ในการวิเคราะห์ทางสถิติ เศรษฐมิติ รวมถึง Data Science\n",
    "- ภาษาคอมพิวเตอร์ จริงๆ แล้ว ก็คือภาษาที่ คน ใช้ คุยกับ คอมพิวเตอร์\n",
    "- ภาษาคอมพิวเตอร์ มีหลายภาษา เช่น `C`, `C++`, `html`, `javascript`, `python` รวมทั้ง `R`\n",
    "- แต่ละภาษาก็มี โครงสร้าง และ ไวยกรณ์ ที่แตกต่างกันออกไป\n",
    "- ปัจจุบัน ภาษาที่นิยมในการทำ data analytics คือ `python` และ `R`\n",
    "\n",
    "\n",
    "## ข้อดีของ `R`\n",
    "- ข้อดีของ `R` คือเป็น open-source **ฟรี**\n",
    "- มี community ที่ support เยอะ\n",
    "- มี **packages** ที่สามารถใช้ได้หลากหลาย เช่น Data Wrangling (การจัดการข้อมูล) Data Visualization (การนำเสนอข้อมูลด้วยภาพ) Data Modeling (การทำแบบจำลองเพื่อวิเคราะห์หรือพยากรณ์) เป็นต้น \n",
    "<br><br>\n",
    "\n",
    "\n",
    "## R vs Python\n",
    "- `R`และ `python` ในการทำ data science สามารถทำได้ทั้งคู่\n",
    "- `python` เป็นภาษาที่สามารถใช้งานด้านอื่นที่นอกเหนอจากการวิเคราะห์ข้อมูล\n",
    "- `R` ถูกพัฒนาขึ้นเพื่อการวิเคราะห์ทางสถิติและวิเคราะห์ข้อมูล จึงมี library ทาง stat มากกว่า\n",
    "\n",
    "\n",
    "## R ทำอะไรได้บ้าง\n",
    "- Data Wrangling/Data Preparation (https://www.tidyverse.org)\n",
    "- Data Visualization (https://www.r-graph-gallery.com)\n",
    "- Statistical and Econometrics Analysis (http://www.urfie.net)\n",
    "- Machine Learning (https://www.tidymodels.org)\n",
    "- Report (https://rmarkdown.rstudio.com)\n",
    "- Dashboard (https://nabc.shinyapps.io/dash-5p/)\n",
    "- Book (https://r.tiid.org)\n",
    "- Website (https://blogs.rstudio.com/ai/)\n",
    "- Presentation (https://pkg.garrickadenbuie.com/gentle-ggplot2/)\n",
    "- etc."
   ]
  },
  {
   "cell_type": "markdown",
   "metadata": {},
   "source": [
    "# Install R\n",
    "- ไปที่ https://cran.r-project.org/index.html\n",
    "- เลือกระบบปฏิบัติการ (macOS, linux, windows)\n",
    "- เลือก base\n",
    "- download R installer\n",
    "- ติดตั้ง R"
   ]
  },
  {
   "cell_type": "markdown",
   "metadata": {},
   "source": [
    "# การใช้งาน R\n",
    "\n",
    "## RGui\n",
    "\n",
    "\n",
    "## RStudio\n",
    "\n",
    "\n",
    "## Jupyterlab\n"
   ]
  },
  {
   "cell_type": "markdown",
   "metadata": {},
   "source": [
    "## Google Colab\n",
    "ข้อดี คือ ไม่ต้องติดตั้งโปรแกรมบนเครื่องตัวเอง แต่การลง library จะมีความซับซ้อนหน่อย\n",
    "- ไปที่ colab.to/r\n",
    "- ไปที่ file -> open notebook\n",
    "- เลือก github\n",
    "- uncheck inlcude private repos\n",
    "- พิมพ์ https://github.com/piyayut-ch/2021-08-24_introR ใน search bar\n",
    "- เลือก notebook ตามต้องการ ไฟล์นามสกุล .ipynb"
   ]
  },
  {
   "cell_type": "markdown",
   "metadata": {},
   "source": [
    "## NABC lab\n",
    "- ต่อ vpn สำนักงาน\n",
    "- เข้าไปที่ http://172.22.0.105\n",
    "- log in ด้วย username และ password ที่เข้าเครื่องสำนักงาน\n",
    "<!-- system(\"git clone https://github.com/piyayut-ch/2021-08-24_introR.git\") -->"
   ]
  },
  {
   "cell_type": "markdown",
   "metadata": {},
   "source": [
    "# Content\n",
    "- Basic R Programming\n",
    "- Data Wrangling\n",
    "- Data Visualization\n",
    "\n",
    "![](https://d33wubrfki0l68.cloudfront.net/571b056757d68e6df81a3e3853f54d3c76ad6efc/32d37/diagrams/data-science.png)"
   ]
  },
  {
   "cell_type": "code",
   "execution_count": null,
   "metadata": {},
   "outputs": [],
   "source": []
  }
 ],
 "metadata": {
  "colab": {
   "authorship_tag": "ABX9TyOZNwQPeF+fgRw6dSFFDOdW",
   "name": "1_R Basics.ipynb",
   "provenance": [],
   "toc_visible": true
  },
  "kernelspec": {
   "display_name": "R",
   "language": "R",
   "name": "ir"
  },
  "language_info": {
   "codemirror_mode": "r",
   "file_extension": ".r",
   "mimetype": "text/x-r-source",
   "name": "R",
   "pygments_lexer": "r",
   "version": "4.1.0"
  }
 },
 "nbformat": 4,
 "nbformat_minor": 4
}
